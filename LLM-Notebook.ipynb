{
 "cells": [
  {
   "cell_type": "markdown",
   "id": "a642cd82",
   "metadata": {},
   "source": [
    "# 💌 Email Classification using LLaMA\n",
    "\n",
    "This notebook demonstrates how to use the TinyLLaMA model for classifying emails into one of three categories: `Priority`, `Promotions`, and `Updates`."
   ]
  },
  {
   "cell_type": "markdown",
   "id": "e29cdb56",
   "metadata": {},
   "source": [
    "## 📦 Step 1: Install & Import Required Packages"
   ]
  },
  {
   "cell_type": "code",
   "execution_count": 1,
   "id": "d23ccb90",
   "metadata": {},
   "outputs": [],
   "source": [
    "# Install if not already\n",
    "# pip install llama-cpp-python pandas scikit-learn\n",
    "\n",
    "from llama_cpp import Llama\n",
    "import pandas as pd\n",
    "import matplotlib.pyplot as plt\n",
    "import seaborn as sns\n",
    "from sklearn.metrics import accuracy_score, classification_report, confusion_matrix\n",
    "from sklearn.model_selection import train_test_split\n",
    "from tqdm import tqdm\n",
    "import time\n",
    "import re\n",
    "\n",
    "\n",
    "pd.set_option('display.max_colwidth', None)"
   ]
  },
  {
   "cell_type": "markdown",
   "id": "e13faab7",
   "metadata": {},
   "source": [
    "## 📁 Step 2: Load Dataset"
   ]
  },
  {
   "cell_type": "code",
   "execution_count": 3,
   "id": "e432920e",
   "metadata": {},
   "outputs": [
    {
     "data": {
      "text/html": [
       "<div>\n",
       "<style scoped>\n",
       "    .dataframe tbody tr th:only-of-type {\n",
       "        vertical-align: middle;\n",
       "    }\n",
       "\n",
       "    .dataframe tbody tr th {\n",
       "        vertical-align: top;\n",
       "    }\n",
       "\n",
       "    .dataframe thead th {\n",
       "        text-align: right;\n",
       "    }\n",
       "</style>\n",
       "<table border=\"1\" class=\"dataframe\">\n",
       "  <thead>\n",
       "    <tr style=\"text-align: right;\">\n",
       "      <th></th>\n",
       "      <th>email_id</th>\n",
       "      <th>email_content</th>\n",
       "      <th>expected_category</th>\n",
       "    </tr>\n",
       "  </thead>\n",
       "  <tbody>\n",
       "    <tr>\n",
       "      <th>0</th>\n",
       "      <td>1</td>\n",
       "      <td>Flash Sale - 48 Hours Only!\\nEverything must go! Massive discounts on all items. Shop now before it's too late!</td>\n",
       "      <td>Promotions</td>\n",
       "    </tr>\n",
       "    <tr>\n",
       "      <th>1</th>\n",
       "      <td>2</td>\n",
       "      <td>Monthly Department Updates\\nReview this month's KPIs and upcoming projects. New policies attached for review.</td>\n",
       "      <td>Updates</td>\n",
       "    </tr>\n",
       "    <tr>\n",
       "      <th>2</th>\n",
       "      <td>3</td>\n",
       "      <td>Monthly Department Updates\\nReview this month's KPIs and upcoming projects. New policies attached for review.</td>\n",
       "      <td>Updates</td>\n",
       "    </tr>\n",
       "    <tr>\n",
       "      <th>3</th>\n",
       "      <td>4</td>\n",
       "      <td>Urgent: Server Maintenance Required\\nOur main server needs immediate maintenance due to critical errors. Please address ASAP.</td>\n",
       "      <td>Priority</td>\n",
       "    </tr>\n",
       "    <tr>\n",
       "      <th>4</th>\n",
       "      <td>5</td>\n",
       "      <td>Urgent: Server Maintenance Required\\nOur main server needs immediate maintenance due to critical errors. Please address ASAP.</td>\n",
       "      <td>Priority</td>\n",
       "    </tr>\n",
       "  </tbody>\n",
       "</table>\n",
       "</div>"
      ],
      "text/plain": [
       "   email_id  \\\n",
       "0         1   \n",
       "1         2   \n",
       "2         3   \n",
       "3         4   \n",
       "4         5   \n",
       "\n",
       "                                                                                                                   email_content  \\\n",
       "0                Flash Sale - 48 Hours Only!\\nEverything must go! Massive discounts on all items. Shop now before it's too late!   \n",
       "1                  Monthly Department Updates\\nReview this month's KPIs and upcoming projects. New policies attached for review.   \n",
       "2                  Monthly Department Updates\\nReview this month's KPIs and upcoming projects. New policies attached for review.   \n",
       "3  Urgent: Server Maintenance Required\\nOur main server needs immediate maintenance due to critical errors. Please address ASAP.   \n",
       "4  Urgent: Server Maintenance Required\\nOur main server needs immediate maintenance due to critical errors. Please address ASAP.   \n",
       "\n",
       "  expected_category  \n",
       "0        Promotions  \n",
       "1           Updates  \n",
       "2           Updates  \n",
       "3          Priority  \n",
       "4          Priority  "
      ]
     },
     "execution_count": 3,
     "metadata": {},
     "output_type": "execute_result"
    }
   ],
   "source": [
    "emails_df = pd.read_csv(r\"C:\\Users\\USER\\Documents\\my-ai-projects\\email_dataset.csv\", nrows = 40)\n",
    "pd.set_option('display.max_colwidth', None)\n",
    "\n",
    "# Check structure\n",
    "emails_df.head()"
   ]
  },
  {
   "cell_type": "code",
   "execution_count": 4,
   "id": "8c91d51c",
   "metadata": {},
   "outputs": [
    {
     "data": {
      "text/plain": [
       "expected_category\n",
       "Priority      22\n",
       "Updates       11\n",
       "Promotions     7\n",
       "Name: count, dtype: int64"
      ]
     },
     "execution_count": 4,
     "metadata": {},
     "output_type": "execute_result"
    }
   ],
   "source": [
    "emails_df['expected_category'].value_counts()"
   ]
  },
  {
   "cell_type": "code",
   "execution_count": 5,
   "id": "4240c683",
   "metadata": {},
   "outputs": [
    {
     "name": "stdout",
     "output_type": "stream",
     "text": [
      "Index(['email_id', 'email_content', 'expected_category'], dtype='object')\n"
     ]
    }
   ],
   "source": [
    "print(emails_df.columns)"
   ]
  },
  {
   "cell_type": "code",
   "execution_count": 6,
   "id": "f5fde535",
   "metadata": {},
   "outputs": [
    {
     "name": "stdout",
     "output_type": "stream",
     "text": [
      "<class 'pandas.core.frame.DataFrame'>\n",
      "RangeIndex: 40 entries, 0 to 39\n",
      "Data columns (total 3 columns):\n",
      " #   Column             Non-Null Count  Dtype \n",
      "---  ------             --------------  ----- \n",
      " 0   email_id           40 non-null     int64 \n",
      " 1   email_content      40 non-null     object\n",
      " 2   expected_category  40 non-null     object\n",
      "dtypes: int64(1), object(2)\n",
      "memory usage: 1.1+ KB\n"
     ]
    }
   ],
   "source": [
    "emails_df.info()"
   ]
  },
  {
   "cell_type": "markdown",
   "id": "82d1c0b3",
   "metadata": {},
   "source": [
    "## 🧠 Step 3: Load the TinyLLaMA Model"
   ]
  },
  {
   "cell_type": "code",
   "execution_count": 7,
   "id": "836bccf7",
   "metadata": {},
   "outputs": [
    {
     "name": "stderr",
     "output_type": "stream",
     "text": [
      "llama_context: n_ctx_per_seq (1024) < n_ctx_train (2048) -- the full capacity of the model will not be utilized\n",
      "llama_kv_cache_unified: LLAMA_SET_ROWS=0, using old ggml_cpy() method for backwards compatibility\n"
     ]
    }
   ],
   "source": [
    "model_path = r\"C:\\Users\\USER\\Documents\\my-ai-projects\\tinyllama-1.1b-chat-v0.3.Q4_K_M.gguf\"\n",
    "\n",
    "llm = Llama(\n",
    "    model_path=model_path,\n",
    "    n_ctx=1024,\n",
    "    verbose= False\n",
    ")"
   ]
  },
  {
   "cell_type": "markdown",
   "id": "99cf01ec",
   "metadata": {},
   "source": [
    "## 🛠️ Step 4: Define a Good Prompt Template"
   ]
  },
  {
   "cell_type": "code",
   "execution_count": null,
   "id": "f92a5b4d",
   "metadata": {},
   "outputs": [],
   "source": [
    "import random\n",
    "\n",
    "few_shot_examples = [\n",
    "    (\"Save big on clearance items – up to 70% off!\", \"Promotions\"),\n",
    "    (\"Introducing our new product line – available now!\", \"Promotions\"),\n",
    "    (\"Exclusive deal: Subscribe now and get 2 months free\", \"Promotions\"),\n",
    "    (\"Weekend Special: Free shipping on all orders!\", \"Promotions\"),\n",
    "    (\"Don't miss our Labor Day Sale!\", \"Promotions\"),\n",
    "    (\"Biggest Sale of the Year – Limited Time Offer!\", \"Promotions\"),\n",
    "\n",
    "    (\"Deadline Approaching: Final drafts due by Friday\", \"Priority\"),\n",
    "    (\"Incident Alert: Unexpected downtime in production\", \"Priority\"),\n",
    "    (\"Reminder: Submit budget revisions by 5 PM\", \"Priority\"),\n",
    "    (\"New Office Guidelines: Please review seating update\", \"Updates\"),\n",
    "    (\"Quarterly Newsletter: Message from the CEO\", \"Updates\"),\n",
    "    (\"Staff Bulletin: Remote work policy updates\", \"Updates\"),\n",
    "]\n",
    "\n",
    "def build_prompt(email_text):\n",
    "    random.shuffle(few_shot_examples)\n",
    "    shots = \"\\n\\n\".join([f'Email: \"{ex[0]}\"\\nCategory: {ex[1]}' for ex in few_shot_examples])\n",
    "\n",
    "    return f\"\"\"\n",
    "You are an intelligent email assistant. Classify the email into one of: Priority, Updates, or Promotions.\n",
    "\n",
    "Think:\n",
    "- Does the email promote sales, offers, or marketing content? → Promotions\n",
    "- Is it internal info or general company updates? → Updates\n",
    "- Is it time-sensitive or requesting urgent action? → Priority\n",
    "\n",
    "Examples:\n",
    "{shots}\n",
    "\n",
    "Now classify this email:\n",
    "\\\"\\\"\\\"{email_text}\\\"\\\"\\\"\n",
    "\n",
    "Category:\"\"\"\n",
    "\n",
    "\n",
    "\n",
    "def classify_email(email_content):\n",
    "    full_prompt = build_prompt(email_content)\n",
    "    output = llm(full_prompt, max_tokens=10, temperature=0.0, top_p=0.9)\n",
    "    raw_text = output['choices'][0]['text'].strip()\n",
    "\n",
    "    # Extract category\n",
    "    match = re.search(r'\\b(Priority|Updates|Promotions)\\b', raw_text, re.IGNORECASE)\n",
    "    return match.group(1).capitalize() if match else \"Unknown\"\n",
    "\n",
    "\n",
    "# 3. Apply classification only to validation set\n",
    "emails_df[\"predicted_category\"] = emails_df[\"email_content\"].apply(classify_email)\n",
    "# 4. Filter out unknowns\n",
    "valid_df = emails_df[emails_df[\"predicted_category\"] != \"Unknown\"]"
   ]
  },
  {
   "cell_type": "code",
   "execution_count": null,
   "id": "19b0f192",
   "metadata": {},
   "outputs": [],
   "source": [
    "few_shot_prompt = \"\"\"\n",
    "You are an intelligent email assistant. Your job is to classify emails into one of three categories:\n",
    "\n",
    "- \"Priority\": Time-sensitive or urgent emails that require immediate action.\n",
    "- \"Updates\": Informational emails such as newsletters or internal updates.\n",
    "- \"Promotions\": Marketing emails such as sales, discounts, or advertisements.\n",
    "\n",
    "Think:\n",
    "- Is the email trying to **sell** or **advertise** something? → Promotions\n",
    "- Is it **internal information**, a **regular update**, or general announcement? → Updates\n",
    "- Is it **urgent**, **time-sensitive**, or asking for **immediate action**? → Priority\n",
    "\n",
    "Classify the email strictly as one of: Priority, Updates, or Promotions.\n",
    "\n",
    "Here are some examples:\n",
    "\n",
    "---\n",
    "\n",
    "Email: \"Flash Sale - 48 Hours Only! Everything must go! Massive discounts on all items. Shop now before it's too late!\"\n",
    "Category: Promotions\n",
    "\n",
    "Email: \"Get early access to our Black Friday deals – Exclusive to our subscribers!\"\n",
    "Category: Promotions\n",
    "\n",
    "Email: \"Just for you: Buy 1 Get 1 Free this week at our stores.\"\n",
    "Category: Promotions\n",
    "\n",
    "Email: \"Special offer ends tonight! Get 30% off all electronics.\"\n",
    "Category: Promotions\n",
    "\n",
    "Email: \"Join us for our grand opening – Free samples, music, and giveaways!\"\n",
    "Category: Promotions\n",
    "\n",
    "Email: \"Sign up for our loyalty program and receive 10% off every purchase.\"\n",
    "Category: Promotions\n",
    "\n",
    "Email: \"This week only: Buy one, get one 50% off on all footwear!\"\n",
    "Category: Promotions\n",
    "\n",
    "---\n",
    "\n",
    "Email: \"New Office Guidelines: Please review the new post-pandemic seating arrangement.\"\n",
    "Category: Updates\n",
    "\n",
    "Email: \"Quarterly Company Newsletter: A message from the CEO, Q1 highlights, and policy changes.\"\n",
    "Category: Updates\n",
    "\n",
    "Email: \"Upcoming Maintenance: Our servers will be down this Sunday from 2–4 AM.\"\n",
    "Category: Updates\n",
    "\n",
    "Email: \"Staff Bulletin: Remote work policy updates for Q3.\"\n",
    "Category: Updates\n",
    "\n",
    "Email: \"Product Roadmap: Here's what's coming in version 2.5\"\n",
    "Category: Updates\n",
    "\n",
    "---\n",
    "\n",
    "Email: \"Reminder: Submit Q2 budget revisions by 5 PM today to avoid approval delays.\"\n",
    "Category: Priority\n",
    "\n",
    "Email: \"Incident Alert: Unexpected downtime detected in the production environment. Engineering is investigating.\"\n",
    "Category: Priority\n",
    "\n",
    "Email: \"Action Required: Confirm your attendance for tomorrow’s board meeting.\"\n",
    "Category: Priority\n",
    "\n",
    "Email: \"Payroll Issue: Please contact HR by noon if your payment hasn’t arrived.\"\n",
    "Category: Priority\n",
    "\n",
    "Email: \"Deadline Approaching: Final project drafts due by EOD Friday.\"\n",
    "Category: Priority\n",
    "\n",
    "---\n",
    "\n",
    "Now classify this email:\n",
    "\\\"{email_content}\\\"\n",
    "\n",
    "Category:\"\"\""
   ]
  },
  {
   "cell_type": "markdown",
   "id": "be91e72f",
   "metadata": {},
   "source": [
    "LLaMA models are not \"finetuned for classification\", so you must craft a clear instruction"
   ]
  },
  {
   "cell_type": "markdown",
   "id": "5d3c8d3f",
   "metadata": {},
   "source": [
    "## 🧪 Step 5: Run Inference for All Emails"
   ]
  },
  {
   "cell_type": "code",
   "execution_count": null,
   "id": "31ea6d6b",
   "metadata": {},
   "outputs": [],
   "source": []
  },
  {
   "cell_type": "code",
   "execution_count": null,
   "id": "e3cb72a0",
   "metadata": {},
   "outputs": [],
   "source": [
    "def classify_email(email_content):\n",
    "    # Inject email into few-shot prompt\n",
    "    full_prompt = few_shot_prompt.format(email_content=email_content.strip())\n",
    "    output = llm(full_prompt, max_tokens=10, temperature=0.0, top_p=0.9)\n",
    "    raw_text = output['choices'][0]['text'].strip()\n",
    "\n",
    "    # Try to extract clean category\n",
    "    match = re.search(r'\\b(Priority|Updates|Promotions)\\b', raw_text, re.IGNORECASE)\n",
    "    return match.group(1).capitalize() if match else \"Unknown\"\n",
    "\n",
    "\n",
    "# 3. Apply classification only to validation set\n",
    "emails_df[\"predicted_category\"] = emails_df[\"email_content\"].apply(classify_email)\n",
    "# 4. Filter out unknowns\n",
    "valid_df = emails_df[emails_df[\"predicted_category\"] != \"Unknown\"]"
   ]
  },
  {
   "cell_type": "markdown",
   "id": "7551e8fc",
   "metadata": {},
   "source": [
    "## 📊 Step 6: Evaluate Performance"
   ]
  },
  {
   "cell_type": "code",
   "execution_count": 10,
   "id": "e197a9a1",
   "metadata": {},
   "outputs": [
    {
     "name": "stdout",
     "output_type": "stream",
     "text": [
      "              precision    recall  f1-score   support\n",
      "\n",
      "    Priority       1.00      1.00      1.00        14\n",
      "     Updates       1.00      1.00      1.00         2\n",
      "\n",
      "    accuracy                           1.00        16\n",
      "   macro avg       1.00      1.00      1.00        16\n",
      "weighted avg       1.00      1.00      1.00        16\n",
      "\n",
      "✅ Accuracy: 100.00%\n"
     ]
    }
   ],
   "source": [
    "valid_df = emails_df[emails_df[\"predicted_category\"] != \"Unknown\"]\n",
    "\n",
    "# 5. Evaluate\n",
    "print(classification_report(valid_df[\"expected_category\"], valid_df[\"predicted_category\"]))\n",
    "accuracy = accuracy_score(valid_df[\"expected_category\"], valid_df[\"predicted_category\"])\n",
    "print(f\"✅ Accuracy: {accuracy:.2%}\")"
   ]
  },
  {
   "cell_type": "markdown",
   "id": "b98189ab",
   "metadata": {},
   "source": [
    "## 🔁 Step 7: Improve Accuracy (Few-Shot Prompting)"
   ]
  },
  {
   "cell_type": "code",
   "execution_count": null,
   "id": "9716b80a",
   "metadata": {},
   "outputs": [],
   "source": [
    "def build_fewshot_prompt(email_text):\n",
    "    return f\"\"\"\n",
    "You are an intelligent email assistant. Your task is to classify the email content into one of: Priority, Promotions, Updates.\n",
    "\n",
    "Examples:\n",
    "Email: \"Urgent: Server will go down tonight.\"  \n",
    "Category: Priority\n",
    "\n",
    "Email: \"Huge sale: 50% off electronics!\"  \n",
    "Category: Promotions\n",
    "\n",
    "Email: \"Here is your weekly newsletter.\"  \n",
    "Category: Updates\n",
    "\n",
    "Now classify the following email:\n",
    "\\\"\\\"\\\"\n",
    "{email_text.strip()}\n",
    "\\\"\\\"\\\"\n",
    "\n",
    "Category:\"\"\""
   ]
  },
  {
   "cell_type": "code",
   "execution_count": null,
   "id": "2a7329e2",
   "metadata": {},
   "outputs": [],
   "source": [
    "categories = [\"Priority\", \"Updates\", \"Promotions\"]\n",
    "cm = confusion_matrix(valid_df[\"expected_category\"], valid_df[\"predicted_category\"], labels=categories)\n",
    "\n",
    "plt.figure(figsize=(6, 4))\n",
    "sns.heatmap(cm, annot=True, fmt='d', cmap='Blues',\n",
    "            xticklabels=categories, yticklabels=categories)\n",
    "plt.title(\"Confusion Matrix\")\n",
    "plt.xlabel(\"Predicted\")\n",
    "plt.ylabel(\"Actual\")\n",
    "plt.tight_layout()\n",
    "plt.show()"
   ]
  },
  {
   "cell_type": "code",
   "execution_count": null,
   "id": "af99145c",
   "metadata": {},
   "outputs": [],
   "source": [
    "report = classification_report(valid_df[\"expected_category\"], valid_df[\"predicted_category\"],\n",
    "                               labels=categories, output_dict=True)\n",
    "\n",
    "category_names = categories\n",
    "f1_scores = [report[cat][\"f1-score\"] for cat in category_names]\n",
    "\n",
    "plt.figure(figsize=(6, 4))\n",
    "sns.barplot(x=category_names, y=f1_scores)\n",
    "plt.title(\"F1 Score per Category\")\n",
    "plt.ylabel(\"F1 Score\")\n",
    "plt.ylim(0, 1)\n",
    "plt.show()"
   ]
  },
  {
   "cell_type": "code",
   "execution_count": null,
   "id": "775eabaa",
   "metadata": {},
   "outputs": [],
   "source": [
    "misclassified = valid_df[valid_df[\"expected_category\"] != valid_df[\"predicted_category\"]]\n",
    "print(\"\\n❌ Sample Misclassifications:\\n\")\n",
    "display(misclassified[[\"email_content\", \"expected_category\", \"predicted_category\"]].head(5))"
   ]
  },
  {
   "cell_type": "code",
   "execution_count": null,
   "id": "00a9ff8f",
   "metadata": {},
   "outputs": [],
   "source": [
    "misclassified.shape"
   ]
  },
  {
   "cell_type": "code",
   "execution_count": null,
   "id": "9eb9503e",
   "metadata": {},
   "outputs": [],
   "source": []
  }
 ],
 "metadata": {
  "kernelspec": {
   "display_name": "llm_env",
   "language": "python",
   "name": "python3"
  },
  "language_info": {
   "codemirror_mode": {
    "name": "ipython",
    "version": 3
   },
   "file_extension": ".py",
   "mimetype": "text/x-python",
   "name": "python",
   "nbconvert_exporter": "python",
   "pygments_lexer": "ipython3",
   "version": "3.10.18"
  }
 },
 "nbformat": 4,
 "nbformat_minor": 5
}
